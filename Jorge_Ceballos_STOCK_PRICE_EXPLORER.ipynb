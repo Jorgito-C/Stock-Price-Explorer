{
 "cells": [
  {
   "cell_type": "markdown",
   "id": "dbee28d5-6543-4f91-b6de-dc3b90c546af",
   "metadata": {},
   "source": [
    "# Stock Price Explorer - Jorge Ceballos"
   ]
  },
  {
   "cell_type": "markdown",
   "id": "047e9ff8-2801-43b9-a503-4e551408b227",
   "metadata": {},
   "source": [
    "In this project, I used the Python library `yfinance` to collect stock price data for Apple (AAPL), NVIDIA (NVDA), and Amazon (AMZN) over the last month.  \n",
    "I created organized DataFrames using `pd.DataFrame()`, combined them into one table, and explored the data by calculating average prices and filtering for days above the average.  \n",
    "I saved the results into CSV files so they can be opened in Excel or shared with others.  \n"
   ]
  },
  {
   "cell_type": "code",
   "execution_count": 1,
   "id": "eaa140fc-caea-4666-b09b-83c67e291045",
   "metadata": {},
   "outputs": [],
   "source": [
    "import pandas as pd #importing pandas library and creating alias \"pd\"\n",
    "import yfinance as yf #importing yfinance, a library that takes data from Yahoo Finance, and creating alias \"yf\""
   ]
  },
  {
   "cell_type": "code",
   "execution_count": 2,
   "id": "30f59d06-0946-4c73-a6c7-96a361cea82c",
   "metadata": {},
   "outputs": [
    {
     "name": "stderr",
     "output_type": "stream",
     "text": [
      "/var/folders/82/2g9syd5x1bggdr_zgrxr1l5w0000gn/T/ipykernel_81591/2593013351.py:3: FutureWarning: YF.download() has changed argument auto_adjust default to True\n",
      "  aapl = yf.download(\"AAPL\", period=\"1mo\")[[\"Close\"]].reset_index()\n",
      "[*********************100%***********************]  1 of 1 completed\n",
      "/var/folders/82/2g9syd5x1bggdr_zgrxr1l5w0000gn/T/ipykernel_81591/2593013351.py:4: FutureWarning: YF.download() has changed argument auto_adjust default to True\n",
      "  aapl = yf.download(\"AAPL\", period=\"1mo\")[[\"Close\"]].reset_index()\n",
      "[*********************100%***********************]  1 of 1 completed\n",
      "/var/folders/82/2g9syd5x1bggdr_zgrxr1l5w0000gn/T/ipykernel_81591/2593013351.py:5: FutureWarning: YF.download() has changed argument auto_adjust default to True\n",
      "  nvda = yf.download(\"NVDA\", period=\"1mo\")[[\"Close\"]].reset_index()\n",
      "[*********************100%***********************]  1 of 1 completed\n",
      "/var/folders/82/2g9syd5x1bggdr_zgrxr1l5w0000gn/T/ipykernel_81591/2593013351.py:6: FutureWarning: YF.download() has changed argument auto_adjust default to True\n",
      "  amzn = yf.download(\"AMZN\", period=\"1mo\")[[\"Close\"]].reset_index()\n",
      "[*********************100%***********************]  1 of 1 completed\n"
     ]
    }
   ],
   "source": [
    "# here I download the data for the last month of 3 tickers; APPL, NVDA, AMZN\n",
    "# yf.download() connects to Yahoo Finance through the libraru and gives me a DataFrame of stock data.\n",
    "aapl = yf.download(\"AAPL\", period=\"1mo\")[[\"Close\"]].reset_index()\n",
    "aapl = yf.download(\"AAPL\", period=\"1mo\")[[\"Close\"]].reset_index()\n",
    "nvda = yf.download(\"NVDA\", period=\"1mo\")[[\"Close\"]].reset_index()\n",
    "amzn = yf.download(\"AMZN\", period=\"1mo\")[[\"Close\"]].reset_index()"
   ]
  },
  {
   "cell_type": "code",
   "execution_count": 3,
   "id": "b56957df-32c6-42b4-ba03-ceefcaea7088",
   "metadata": {},
   "outputs": [],
   "source": [
    "# Here i turned the \"Close\" column into a list of numbers\n",
    "# .squeeze() makes sure we have a Series (1-D), and .tolist() converts it to a Python list.\n",
    "aapl_close = aapl[\"Close\"].squeeze().tolist()\n",
    "nvda_close = nvda[\"Close\"].squeeze().tolist()\n",
    "amzn_close = amzn[\"Close\"].squeeze().tolist()"
   ]
  },
  {
   "cell_type": "code",
   "execution_count": 4,
   "id": "7f3e97fb-360e-4e99-be1e-e87cdc4ba88c",
   "metadata": {},
   "outputs": [],
   "source": [
    "# Here i build the three DataFrames (one per stock) using pd.DataFrame()\n",
    "# len() counts how many rows we need for each ticker so the lengths all match.\n",
    "aapl_df = pd.DataFrame({\n",
    "    \"Date\": aapl[\"Date\"].tolist(),\n",
    "    \"Ticker\": [\"AAPL\"] * len(aapl_close),\n",
    "    \"Close\": aapl_close\n",
    "})\n",
    "\n",
    "nvda_df = pd.DataFrame({\n",
    "    \"Date\": nvda[\"Date\"].tolist(),\n",
    "    \"Ticker\": [\"NVDA\"] * len(nvda_close),\n",
    "    \"Close\": nvda_close\n",
    "})\n",
    "\n",
    "amzn_df = pd.DataFrame({\n",
    "    \"Date\": amzn[\"Date\"].tolist(),\n",
    "    \"Ticker\": [\"AMZN\"] * len(amzn_close),\n",
    "    \"Close\": amzn_close\n",
    "})\n"
   ]
  },
  {
   "cell_type": "code",
   "execution_count": 5,
   "id": "3ba3a440-45ef-468e-afd9-da943bf963ea",
   "metadata": {},
   "outputs": [
    {
     "name": "stdout",
     "output_type": "stream",
     "text": [
      "Full clean dataset:\n",
      "        Date Ticker       Close\n",
      "0 2025-08-26   AAPL  229.309998\n",
      "1 2025-08-27   AAPL  230.490005\n",
      "2 2025-08-28   AAPL  232.559998\n",
      "3 2025-08-29   AAPL  232.139999\n",
      "4 2025-09-02   AAPL  229.720001\n"
     ]
    }
   ],
   "source": [
    "# Here i combine the three DataFrames into one clean DataFrame\n",
    "# pd.concat() stacks them on top of each other into one table.\n",
    "clean_df = pd.concat([aapl_df, nvda_df, amzn_df], ignore_index=True)\n",
    "\n",
    "print(\"Full clean dataset:\")\n",
    "print(clean_df.head())"
   ]
  },
  {
   "cell_type": "code",
   "execution_count": 7,
   "id": "2311ce1b-8bed-4124-91d7-093e09328e85",
   "metadata": {},
   "outputs": [
    {
     "name": "stdout",
     "output_type": "stream",
     "text": [
      "\n",
      "AAPL average close: 238.74\n",
      "         Date Ticker       Close\n",
      "6  2025-09-04   AAPL  239.779999\n",
      "7  2025-09-05   AAPL  239.690002\n",
      "15 2025-09-17   AAPL  238.990005\n",
      "17 2025-09-19   AAPL  245.500000\n",
      "18 2025-09-22   AAPL  256.079987\n",
      "\n",
      "NVDA average close: 175.53\n",
      "         Date Ticker       Close\n",
      "22 2025-08-26   NVDA  181.759750\n",
      "23 2025-08-27   NVDA  181.589767\n",
      "24 2025-08-28   NVDA  180.159836\n",
      "32 2025-09-10   NVDA  177.320007\n",
      "33 2025-09-11   NVDA  177.169998\n",
      "\n",
      "AMZN average close: 229.40\n",
      "         Date Ticker       Close\n",
      "46 2025-08-28   AMZN  231.600006\n",
      "50 2025-09-04   AMZN  235.679993\n",
      "51 2025-09-05   AMZN  232.330002\n",
      "52 2025-09-08   AMZN  235.839996\n",
      "53 2025-09-09   AMZN  238.240005\n"
     ]
    }
   ],
   "source": [
    "# Heare i use a For loop for each ticker, and calculate the average price and show days above average\n",
    "# .mean() finds the average. I filter rows where Close > average.\n",
    "summary = []\n",
    "for ticker in [\"AAPL\", \"NVDA\", \"AMZN\"]:\n",
    "    filter_stock = clean_df[clean_df[\"Ticker\"] == ticker] #here i filter one ticker at a time\n",
    "    avg = filter_stock[\"Close\"].mean()    #finding the average close price\n",
    "    above_avg = filter_stock[filter_stock[\"Close\"] > avg]\n",
    "    print(f\"\\n{ticker} average close: {avg:.2f}\")\n",
    "    print(above_avg.head())  # show first few above-average days\n",
    "    summary.append({\"Ticker\": ticker, \"Average_Close\": avg})"
   ]
  },
  {
   "cell_type": "code",
   "execution_count": 8,
   "id": "f287774b-b079-44b6-baef-c90d0074c488",
   "metadata": {},
   "outputs": [
    {
     "name": "stdout",
     "output_type": "stream",
     "text": [
      "\n",
      "Summary table (one row per ticker):\n",
      "  Ticker  Average_Close\n",
      "0   AAPL     238.735909\n",
      "1   NVDA     175.527822\n",
      "2   AMZN     229.399545\n"
     ]
    }
   ],
   "source": [
    "# Make a small summary DataFrame with just 3 rows, one per ticker\n",
    "# pd.DataFrame() turns the summary list into a neat table\n",
    "summary_df = pd.DataFrame(summary)\n",
    "print(\"\\nSummary table (one row per ticker):\")\n",
    "print(summary_df)"
   ]
  },
  {
   "cell_type": "code",
   "execution_count": 9,
   "id": "89e4b69c-55f1-4996-8033-4b6145236597",
   "metadata": {},
   "outputs": [
    {
     "name": "stdout",
     "output_type": "stream",
     "text": [
      "\n",
      "Saved: stocks_last_month.csv and stocks_summary.csv\n"
     ]
    }
   ],
   "source": [
    "\n",
    "# .to_csv() writes the tables to files\n",
    "clean_df.to_csv(\"stocks_last_month.csv\", index=False)\n",
    "summary_df.to_csv(\"stocks_summary.csv\", index=False)\n",
    "print(\"\\nSaved: stocks_last_month.csv and stocks_summary.csv\")"
   ]
  },
  {
   "cell_type": "code",
   "execution_count": null,
   "id": "dfe41f0e-846d-4011-a7e2-9d1b1df270be",
   "metadata": {},
   "outputs": [],
   "source": []
  }
 ],
 "metadata": {
  "kernelspec": {
   "display_name": "Python [conda env:base] *",
   "language": "python",
   "name": "conda-base-py"
  },
  "language_info": {
   "codemirror_mode": {
    "name": "ipython",
    "version": 3
   },
   "file_extension": ".py",
   "mimetype": "text/x-python",
   "name": "python",
   "nbconvert_exporter": "python",
   "pygments_lexer": "ipython3",
   "version": "3.13.5"
  }
 },
 "nbformat": 4,
 "nbformat_minor": 5
}
